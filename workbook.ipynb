{
 "cells": [
  {
   "cell_type": "markdown",
   "metadata": {
    "colab_type": "text",
    "id": "KCoGvh8BKdk6"
   },
   "source": [
    "# <center>Pandas Python Library for Beginners in Data Science\n",
    "#### <center>Instructor: Vinita Silaparasetty"
   ]
  },
  {
   "cell_type": "markdown",
   "metadata": {
    "colab_type": "text",
    "id": "ld-AxEPgKdk8"
   },
   "source": [
    "### Import Libraries"
   ]
  },
  {
   "cell_type": "code",
   "execution_count": 1,
   "metadata": {
    "colab": {},
    "colab_type": "code",
    "id": "ocAmpkPRKdk9"
   },
   "outputs": [],
   "source": [
    "import numpy as np\n",
    "import pandas as pd              "
   ]
  },
  {
   "cell_type": "markdown",
   "metadata": {
    "colab_type": "text",
    "id": "2Ofz0_DyKdlD"
   },
   "source": [
    "# <center> Creating a Series"
   ]
  },
  {
   "cell_type": "markdown",
   "metadata": {
    "colab_type": "text",
    "id": "SbYyYRUSKdlE"
   },
   "source": [
    "<img src=\"https://github.com/VinitaSilaparasetty/Coursera-Pandas-for-Beginners/blob/master/Media/series.png?raw=true\" width=\"600\" height=\"600\">\n"
   ]
  },
  {
   "cell_type": "markdown",
   "metadata": {
    "colab_type": "text",
    "id": "3P5hT6izKdlE"
   },
   "source": [
    "### <center> Method 1: Using an Array"
   ]
  },
  {
   "cell_type": "code",
   "execution_count": 3,
   "metadata": {
    "colab": {},
    "colab_type": "code",
    "id": "tsb5Ea90KdlF"
   },
   "outputs": [
    {
     "data": {
      "text/plain": [
       "0                 1\n",
       "1               NaN\n",
       "2    Pandas Library\n",
       "dtype: object"
      ]
     },
     "execution_count": 3,
     "metadata": {},
     "output_type": "execute_result"
    }
   ],
   "source": [
    "s = ([1,np.nan, 'Pandas Library'])\n",
    "s1 = pd.Series(s)\n",
    "s1\n"
   ]
  },
  {
   "cell_type": "markdown",
   "metadata": {
    "colab_type": "text",
    "id": "6EgyYUF1KdlI"
   },
   "source": [
    "## <center>🏆 Challenge"
   ]
  },
  {
   "cell_type": "markdown",
   "metadata": {
    "colab_type": "text",
    "id": "oQknrXEeKdlI"
   },
   "source": [
    "Create a Pandas Series, named s2, containing the following:\n",
    "\n",
    "* Integer = 2\n",
    "\n",
    "* Nan value\n",
    "\n",
    "* Character = b"
   ]
  },
  {
   "cell_type": "markdown",
   "metadata": {
    "colab": {},
    "colab_type": "code",
    "id": "4FA6SXTiKdlJ"
   },
   "source": [
    "unaSerie = ([2,np.nan, \"b\"])\n",
    "s2 = pd.Series(s)\n",
    "s2"
   ]
  },
  {
   "cell_type": "markdown",
   "metadata": {
    "colab_type": "text",
    "id": "uD33CcL2KdlM"
   },
   "source": [
    "### <center> Method 2: Using a List"
   ]
  },
  {
   "cell_type": "code",
   "execution_count": 5,
   "metadata": {
    "colab": {},
    "colab_type": "code",
    "id": "WbmqTnqpKdlM"
   },
   "outputs": [
    {
     "data": {
      "text/plain": [
       "0    animal\n",
       "1         2\n",
       "2    animal\n",
       "dtype: object"
      ]
     },
     "execution_count": 5,
     "metadata": {},
     "output_type": "execute_result"
    }
   ],
   "source": [
    "list1 = ['animal', '2', 'animal']\n",
    "s3 = pd.Series(list1)\n",
    "s3"
   ]
  },
  {
   "cell_type": "markdown",
   "metadata": {
    "colab_type": "text",
    "id": "7gXdU6rWKdlS"
   },
   "source": [
    "## <center>🏆 Challenge"
   ]
  },
  {
   "cell_type": "markdown",
   "metadata": {
    "colab_type": "text",
    "id": "GdViOvQ2KdlS"
   },
   "source": [
    "Create a Pandas Series, named s4.\n",
    "Use a list, named list2, containing the following:\n",
    "\n",
    "* Integer = 3\n",
    "\n",
    "* Character = c\n",
    "\n",
    "* String = Numpy \n",
    "\n",
    "Note:'N' Must be capital"
   ]
  },
  {
   "cell_type": "code",
   "execution_count": 6,
   "metadata": {
    "colab": {},
    "colab_type": "code",
    "id": "1Wj8jpxWKdlT"
   },
   "outputs": [
    {
     "data": {
      "text/plain": [
       "0        3\n",
       "1        c\n",
       "2    Numpy\n",
       "dtype: object"
      ]
     },
     "execution_count": 6,
     "metadata": {},
     "output_type": "execute_result"
    }
   ],
   "source": [
    "list2 = [3,'c','Numpy']\n",
    "s4 = pd.Series(list2)\n",
    "s4"
   ]
  },
  {
   "cell_type": "markdown",
   "metadata": {
    "colab_type": "text",
    "id": "fcErTl3qKdlW"
   },
   "source": [
    "### <center> Method 3: Using a Dictionary"
   ]
  },
  {
   "cell_type": "code",
   "execution_count": 8,
   "metadata": {
    "colab": {},
    "colab_type": "code",
    "id": "ThVGkJpdKdlX"
   },
   "outputs": [
    {
     "data": {
      "text/plain": [
       "A         1\n",
       "3    Python\n",
       "dtype: object"
      ]
     },
     "execution_count": 8,
     "metadata": {},
     "output_type": "execute_result"
    }
   ],
   "source": [
    "s5 = pd.Series(\n",
    " {'A':1,\n",
    "  '3':'Python',\n",
    " })\n",
    "s5"
   ]
  },
  {
   "cell_type": "markdown",
   "metadata": {
    "colab_type": "text",
    "id": "VJJSuF2UKdla"
   },
   "source": [
    "## <center>🏆 Challenge"
   ]
  },
  {
   "cell_type": "markdown",
   "metadata": {
    "colab_type": "text",
    "id": "qwY80G7xKdlb"
   },
   "source": [
    "Create a Pandas Series, named s6, containing the following:\n",
    "\n",
    "* 'Integer' = 3\n",
    "* 'B' = Boys\n"
   ]
  },
  {
   "cell_type": "code",
   "execution_count": 9,
   "metadata": {
    "colab": {},
    "colab_type": "code",
    "id": "6N4D3ni_Kdlb"
   },
   "outputs": [
    {
     "data": {
      "text/plain": [
       "Integer       3\n",
       "B          Boys\n",
       "dtype: object"
      ]
     },
     "execution_count": 9,
     "metadata": {},
     "output_type": "execute_result"
    }
   ],
   "source": [
    "s6 = pd.Series({\n",
    "    'Integer':3,\n",
    "    'B':'Boys'\n",
    "})\n",
    "s6"
   ]
  },
  {
   "cell_type": "markdown",
   "metadata": {
    "colab_type": "text",
    "id": "UvjvQy9nKdle"
   },
   "source": [
    "# <center> Creating Data Frames"
   ]
  },
  {
   "cell_type": "markdown",
   "metadata": {
    "colab_type": "text",
    "id": "OirhnVKZKdlf"
   },
   "source": [
    "<img src=\"https://github.com/VinitaSilaparasetty/Coursera-Pandas-for-Beginners/blob/master/Media/dataframe.gif?raw=true\" width=\"600\" height=\"600\">"
   ]
  },
  {
   "cell_type": "markdown",
   "metadata": {
    "colab_type": "text",
    "id": "OYecM5C4Kdlh"
   },
   "source": [
    "### <center> Method 1: Passing a Numpy Array"
   ]
  },
  {
   "cell_type": "code",
   "execution_count": 10,
   "metadata": {
    "colab": {},
    "colab_type": "code",
    "id": "siDIHrk5Kdlh"
   },
   "outputs": [
    {
     "data": {
      "text/html": [
       "<div>\n",
       "<style scoped>\n",
       "    .dataframe tbody tr th:only-of-type {\n",
       "        vertical-align: middle;\n",
       "    }\n",
       "\n",
       "    .dataframe tbody tr th {\n",
       "        vertical-align: top;\n",
       "    }\n",
       "\n",
       "    .dataframe thead th {\n",
       "        text-align: right;\n",
       "    }\n",
       "</style>\n",
       "<table border=\"1\" class=\"dataframe\">\n",
       "  <thead>\n",
       "    <tr style=\"text-align: right;\">\n",
       "      <th></th>\n",
       "      <th>0</th>\n",
       "      <th>1</th>\n",
       "      <th>2</th>\n",
       "      <th>3</th>\n",
       "    </tr>\n",
       "  </thead>\n",
       "  <tbody>\n",
       "    <tr>\n",
       "      <th>0</th>\n",
       "      <td>-0.657926</td>\n",
       "      <td>0.055906</td>\n",
       "      <td>-3.198474</td>\n",
       "      <td>0.410534</td>\n",
       "    </tr>\n",
       "    <tr>\n",
       "      <th>1</th>\n",
       "      <td>-0.206612</td>\n",
       "      <td>1.082780</td>\n",
       "      <td>-0.125843</td>\n",
       "      <td>0.246152</td>\n",
       "    </tr>\n",
       "    <tr>\n",
       "      <th>2</th>\n",
       "      <td>-0.241666</td>\n",
       "      <td>0.046516</td>\n",
       "      <td>-0.215907</td>\n",
       "      <td>-2.192446</td>\n",
       "    </tr>\n",
       "    <tr>\n",
       "      <th>3</th>\n",
       "      <td>0.074820</td>\n",
       "      <td>-0.061437</td>\n",
       "      <td>1.876366</td>\n",
       "      <td>0.560862</td>\n",
       "    </tr>\n",
       "    <tr>\n",
       "      <th>4</th>\n",
       "      <td>0.649225</td>\n",
       "      <td>-0.292091</td>\n",
       "      <td>1.382407</td>\n",
       "      <td>-2.074432</td>\n",
       "    </tr>\n",
       "    <tr>\n",
       "      <th>5</th>\n",
       "      <td>0.067949</td>\n",
       "      <td>0.415566</td>\n",
       "      <td>-0.489405</td>\n",
       "      <td>-0.222743</td>\n",
       "    </tr>\n",
       "  </tbody>\n",
       "</table>\n",
       "</div>"
      ],
      "text/plain": [
       "          0         1         2         3\n",
       "0 -0.657926  0.055906 -3.198474  0.410534\n",
       "1 -0.206612  1.082780 -0.125843  0.246152\n",
       "2 -0.241666  0.046516 -0.215907 -2.192446\n",
       "3  0.074820 -0.061437  1.876366  0.560862\n",
       "4  0.649225 -0.292091  1.382407 -2.074432\n",
       "5  0.067949  0.415566 -0.489405 -0.222743"
      ]
     },
     "execution_count": 10,
     "metadata": {},
     "output_type": "execute_result"
    }
   ],
   "source": [
    "df = pd.DataFrame(np.random.randn(6,4))\n",
    "df"
   ]
  },
  {
   "cell_type": "markdown",
   "metadata": {
    "colab_type": "text",
    "id": "IMz9JGVqKdlk"
   },
   "source": [
    "## <center>🏆 Challenge"
   ]
  },
  {
   "cell_type": "markdown",
   "metadata": {
    "colab_type": "text",
    "id": "SpsBwi3eKdll"
   },
   "source": [
    "Create a data frame, named df1, which contains:\n",
    "\n",
    "* A randomly generated array with the dimensions 3x3.\n"
   ]
  },
  {
   "cell_type": "code",
   "execution_count": 11,
   "metadata": {
    "colab": {},
    "colab_type": "code",
    "id": "gla4tyT7Kdlm"
   },
   "outputs": [
    {
     "data": {
      "text/html": [
       "<div>\n",
       "<style scoped>\n",
       "    .dataframe tbody tr th:only-of-type {\n",
       "        vertical-align: middle;\n",
       "    }\n",
       "\n",
       "    .dataframe tbody tr th {\n",
       "        vertical-align: top;\n",
       "    }\n",
       "\n",
       "    .dataframe thead th {\n",
       "        text-align: right;\n",
       "    }\n",
       "</style>\n",
       "<table border=\"1\" class=\"dataframe\">\n",
       "  <thead>\n",
       "    <tr style=\"text-align: right;\">\n",
       "      <th></th>\n",
       "      <th>0</th>\n",
       "      <th>1</th>\n",
       "      <th>2</th>\n",
       "    </tr>\n",
       "  </thead>\n",
       "  <tbody>\n",
       "    <tr>\n",
       "      <th>0</th>\n",
       "      <td>0.522529</td>\n",
       "      <td>0.758523</td>\n",
       "      <td>0.930131</td>\n",
       "    </tr>\n",
       "    <tr>\n",
       "      <th>1</th>\n",
       "      <td>0.423809</td>\n",
       "      <td>0.614140</td>\n",
       "      <td>0.939476</td>\n",
       "    </tr>\n",
       "    <tr>\n",
       "      <th>2</th>\n",
       "      <td>0.220285</td>\n",
       "      <td>0.517959</td>\n",
       "      <td>0.867481</td>\n",
       "    </tr>\n",
       "  </tbody>\n",
       "</table>\n",
       "</div>"
      ],
      "text/plain": [
       "          0         1         2\n",
       "0  0.522529  0.758523  0.930131\n",
       "1  0.423809  0.614140  0.939476\n",
       "2  0.220285  0.517959  0.867481"
      ]
     },
     "execution_count": 11,
     "metadata": {},
     "output_type": "execute_result"
    }
   ],
   "source": [
    "df1 = pd.DataFrame(np.random.rand(3,3))\n",
    "df1"
   ]
  },
  {
   "cell_type": "markdown",
   "metadata": {
    "colab_type": "text",
    "id": "I1KbMG7rKdlq"
   },
   "source": [
    "\n",
    "### <center> Method 2: Passing a Dictionary of Objects"
   ]
  },
  {
   "cell_type": "code",
   "execution_count": 12,
   "metadata": {
    "colab": {},
    "colab_type": "code",
    "id": "dye9T8WMKdlq"
   },
   "outputs": [
    {
     "data": {
      "text/html": [
       "<div>\n",
       "<style scoped>\n",
       "    .dataframe tbody tr th:only-of-type {\n",
       "        vertical-align: middle;\n",
       "    }\n",
       "\n",
       "    .dataframe tbody tr th {\n",
       "        vertical-align: top;\n",
       "    }\n",
       "\n",
       "    .dataframe thead th {\n",
       "        text-align: right;\n",
       "    }\n",
       "</style>\n",
       "<table border=\"1\" class=\"dataframe\">\n",
       "  <thead>\n",
       "    <tr style=\"text-align: right;\">\n",
       "      <th></th>\n",
       "      <th>A</th>\n",
       "      <th>number</th>\n",
       "    </tr>\n",
       "  </thead>\n",
       "  <tbody>\n",
       "    <tr>\n",
       "      <th>0</th>\n",
       "      <td>1</td>\n",
       "      <td>6</td>\n",
       "    </tr>\n",
       "    <tr>\n",
       "      <th>1</th>\n",
       "      <td>1</td>\n",
       "      <td>6</td>\n",
       "    </tr>\n",
       "    <tr>\n",
       "      <th>2</th>\n",
       "      <td>1</td>\n",
       "      <td>6</td>\n",
       "    </tr>\n",
       "  </tbody>\n",
       "</table>\n",
       "</div>"
      ],
      "text/plain": [
       "   A  number\n",
       "0  1       6\n",
       "1  1       6\n",
       "2  1       6"
      ]
     },
     "execution_count": 12,
     "metadata": {},
     "output_type": "execute_result"
    }
   ],
   "source": [
    "df2 = pd.DataFrame({\n",
    "    'A':1,\n",
    "    'number':np.array([6]*3,dtype='int32'),\n",
    "})\n",
    "df2"
   ]
  },
  {
   "cell_type": "markdown",
   "metadata": {
    "colab_type": "text",
    "id": "o8Q8XGUZKdlt"
   },
   "source": [
    "## <center>🏆 Challenge"
   ]
  },
  {
   "cell_type": "markdown",
   "metadata": {
    "colab_type": "text",
    "id": "rKldfWrdKdlu"
   },
   "source": [
    "Create a data frame, named df3, which contains:\n",
    "\n",
    "* 'E' = np.array([4] * 5,dtype='int32')\n",
    "\n",
    "* 'Day' = 2"
   ]
  },
  {
   "cell_type": "code",
   "execution_count": 15,
   "metadata": {
    "colab": {},
    "colab_type": "code",
    "id": "6Itupb7_Kdlu"
   },
   "outputs": [
    {
     "data": {
      "text/html": [
       "<div>\n",
       "<style scoped>\n",
       "    .dataframe tbody tr th:only-of-type {\n",
       "        vertical-align: middle;\n",
       "    }\n",
       "\n",
       "    .dataframe tbody tr th {\n",
       "        vertical-align: top;\n",
       "    }\n",
       "\n",
       "    .dataframe thead th {\n",
       "        text-align: right;\n",
       "    }\n",
       "</style>\n",
       "<table border=\"1\" class=\"dataframe\">\n",
       "  <thead>\n",
       "    <tr style=\"text-align: right;\">\n",
       "      <th></th>\n",
       "      <th>E</th>\n",
       "      <th>Day</th>\n",
       "    </tr>\n",
       "  </thead>\n",
       "  <tbody>\n",
       "    <tr>\n",
       "      <th>0</th>\n",
       "      <td>4</td>\n",
       "      <td>2</td>\n",
       "    </tr>\n",
       "    <tr>\n",
       "      <th>1</th>\n",
       "      <td>4</td>\n",
       "      <td>2</td>\n",
       "    </tr>\n",
       "    <tr>\n",
       "      <th>2</th>\n",
       "      <td>4</td>\n",
       "      <td>2</td>\n",
       "    </tr>\n",
       "    <tr>\n",
       "      <th>3</th>\n",
       "      <td>4</td>\n",
       "      <td>2</td>\n",
       "    </tr>\n",
       "    <tr>\n",
       "      <th>4</th>\n",
       "      <td>4</td>\n",
       "      <td>2</td>\n",
       "    </tr>\n",
       "  </tbody>\n",
       "</table>\n",
       "</div>"
      ],
      "text/plain": [
       "   E  Day\n",
       "0  4    2\n",
       "1  4    2\n",
       "2  4    2\n",
       "3  4    2\n",
       "4  4    2"
      ]
     },
     "execution_count": 15,
     "metadata": {},
     "output_type": "execute_result"
    }
   ],
   "source": [
    "df3 = pd.DataFrame({\n",
    "    'E':np.array([4]*5, dtype='int32'),\n",
    "    'Day':2\n",
    "})\n",
    "df3"
   ]
  },
  {
   "cell_type": "markdown",
   "metadata": {
    "colab_type": "text",
    "id": "3R3OkHq4Kdlx"
   },
   "source": [
    "--------"
   ]
  },
  {
   "cell_type": "markdown",
   "metadata": {
    "colab_type": "text",
    "id": "M5AaQ2rDKdly"
   },
   "source": [
    "## <center> Importing Files"
   ]
  },
  {
   "cell_type": "markdown",
   "metadata": {
    "colab_type": "text",
    "id": "jo9Gd6kqKdlz"
   },
   "source": [
    "### Import .csv files\n",
    "\n",
    "Use the file path: /home/rhyme/Desktop/Project/\n",
    "\n",
    "(Note: If you want to use this command for a file on your own system, be sure to use the correct file path.)"
   ]
  },
  {
   "cell_type": "code",
   "execution_count": null,
   "metadata": {
    "colab": {},
    "colab_type": "code",
    "id": "SmwNmKeyKdlz"
   },
   "outputs": [],
   "source": []
  },
  {
   "cell_type": "markdown",
   "metadata": {
    "colab_type": "text",
    "id": "uCGTYpgnKdl2"
   },
   "source": [
    "-----------------"
   ]
  },
  {
   "cell_type": "markdown",
   "metadata": {
    "colab_type": "text",
    "id": "YnNKzbKEKdl2"
   },
   "source": [
    "## <center>🏆 Challenge\n",
    "    \n",
    "Import the file practicedata.json in the dataframe df5.\n",
    "\n",
    "Use the file path: /home/rhyme/Desktop/Project/"
   ]
  },
  {
   "cell_type": "code",
   "execution_count": null,
   "metadata": {
    "colab": {},
    "colab_type": "code",
    "id": "oGc5QRJvKdl4"
   },
   "outputs": [],
   "source": []
  },
  {
   "cell_type": "markdown",
   "metadata": {
    "colab_type": "text",
    "id": "JwEArSFUKdl7"
   },
   "source": [
    "### Importing Files from a url\n",
    "\n",
    "Import data from this github repo: https://raw.githubusercontent.com/VinitaSilaparasetty/Coursera-Pandas-for-Beginners/master/practicedata.csv\")\n"
   ]
  },
  {
   "cell_type": "code",
   "execution_count": null,
   "metadata": {
    "colab": {},
    "colab_type": "code",
    "id": "rmtoBqDvKdl8"
   },
   "outputs": [],
   "source": []
  },
  {
   "cell_type": "markdown",
   "metadata": {
    "colab_type": "text",
    "id": "n27mTE_fKdl_"
   },
   "source": [
    "## <center>🏆 Challenge\n",
    "    \n",
    "Create the data frame df7.\n",
    "\n",
    "Then import data from this github repo: https://raw.githubusercontent.com/VinitaSilaparasetty/Coursera-Pandas-for-Beginners/master/practicedata.json"
   ]
  },
  {
   "cell_type": "code",
   "execution_count": null,
   "metadata": {
    "colab": {},
    "colab_type": "code",
    "id": "AO_hwwLSKdmA"
   },
   "outputs": [],
   "source": []
  },
  {
   "cell_type": "markdown",
   "metadata": {
    "colab_type": "text",
    "id": "_EThdbK-KdmC"
   },
   "source": [
    "## <center> Export Files"
   ]
  },
  {
   "cell_type": "markdown",
   "metadata": {
    "colab_type": "text",
    "id": "z0XsMHH5KdmD"
   },
   "source": [
    "### Export .csv Files"
   ]
  },
  {
   "cell_type": "code",
   "execution_count": null,
   "metadata": {
    "colab": {},
    "colab_type": "code",
    "id": "S8V4mCjZKdmD"
   },
   "outputs": [],
   "source": []
  },
  {
   "cell_type": "markdown",
   "metadata": {
    "colab_type": "text",
    "id": "dIfmNerUKdmF"
   },
   "source": [
    "## <center>🏆 Challenge\n",
    "\n",
    "Export the data from df4 to 'practicedata2.json'\n",
    "\n",
    "Use the file path:/home/rhyme/Desktop/Project/"
   ]
  },
  {
   "cell_type": "code",
   "execution_count": null,
   "metadata": {
    "colab": {},
    "colab_type": "code",
    "id": "hAKKLJFdKdmG"
   },
   "outputs": [],
   "source": []
  },
  {
   "cell_type": "markdown",
   "metadata": {
    "colab_type": "text",
    "id": "FlkZR3qZKdmI"
   },
   "source": [
    "## <center>Data Summary\n",
    "    \n",
    "We will be working with data frame df6 for this section. "
   ]
  },
  {
   "cell_type": "code",
   "execution_count": null,
   "metadata": {
    "colab": {},
    "colab_type": "code",
    "id": "lKTohz7wKdmJ"
   },
   "outputs": [],
   "source": [
    "#first run this cell to create the data frame df6\n",
    "df6 = pd.read_csv(\"https://raw.githubusercontent.com/VinitaSilaparasetty/Coursera-Pandas-for-Beginners/master/practicedata.csv\")\n",
    "df6"
   ]
  },
  {
   "cell_type": "markdown",
   "metadata": {
    "colab_type": "text",
    "id": "DN6MB5lMKdmL"
   },
   "source": [
    "### Quick Summary of Data"
   ]
  },
  {
   "cell_type": "code",
   "execution_count": null,
   "metadata": {
    "colab": {},
    "colab_type": "code",
    "id": "mugbGs2uKdmM"
   },
   "outputs": [],
   "source": []
  },
  {
   "cell_type": "markdown",
   "metadata": {
    "colab_type": "text",
    "id": "3_jL7fU6KdmQ"
   },
   "source": [
    "### Detailed Summary of Data"
   ]
  },
  {
   "cell_type": "code",
   "execution_count": null,
   "metadata": {
    "colab": {},
    "colab_type": "code",
    "id": "GzgcphGkKdmQ"
   },
   "outputs": [],
   "source": []
  },
  {
   "cell_type": "markdown",
   "metadata": {
    "colab_type": "text",
    "id": "CF4sggh4KdmU"
   },
   "source": [
    "## <center>View Columns"
   ]
  },
  {
   "cell_type": "code",
   "execution_count": null,
   "metadata": {
    "colab": {},
    "colab_type": "code",
    "id": "pgMfvaJxKdmU"
   },
   "outputs": [],
   "source": []
  },
  {
   "cell_type": "code",
   "execution_count": null,
   "metadata": {
    "colab": {},
    "colab_type": "code",
    "id": "sdeACv2SRlOH"
   },
   "outputs": [],
   "source": []
  },
  {
   "cell_type": "markdown",
   "metadata": {
    "colab_type": "text",
    "id": "uAXDELuXKdmX"
   },
   "source": [
    "## <center>🏆 Challenge\n",
    "    \n",
    "View the columns in df7."
   ]
  },
  {
   "cell_type": "code",
   "execution_count": null,
   "metadata": {
    "colab": {},
    "colab_type": "code",
    "id": "uE5qFaJtKdmX"
   },
   "outputs": [],
   "source": [
    "#first run this cell to create the data frame df7\n",
    "df7 = pd.read_json(\"https://raw.githubusercontent.com/VinitaSilaparasetty/Coursera-Pandas-for-Beginners/master/practicedata.json\")\n",
    "df7"
   ]
  },
  {
   "cell_type": "code",
   "execution_count": null,
   "metadata": {
    "colab": {},
    "colab_type": "code",
    "id": "f11ZMpvZKdma"
   },
   "outputs": [],
   "source": []
  },
  {
   "cell_type": "markdown",
   "metadata": {
    "colab_type": "text",
    "id": "CHrYIhwHKdmg"
   },
   "source": [
    "## <center>View Datatypes"
   ]
  },
  {
   "cell_type": "code",
   "execution_count": null,
   "metadata": {
    "colab": {},
    "colab_type": "code",
    "id": "jAZnSb1pKdmg"
   },
   "outputs": [],
   "source": []
  },
  {
   "cell_type": "markdown",
   "metadata": {
    "colab_type": "text",
    "id": "6gAkSbTSKdml"
   },
   "source": [
    "## <center>🏆 Challenge\n",
    "    \n",
    "View the datatypes in df7"
   ]
  },
  {
   "cell_type": "code",
   "execution_count": null,
   "metadata": {
    "colab": {},
    "colab_type": "code",
    "id": "LxbDyFpEKdml"
   },
   "outputs": [],
   "source": []
  },
  {
   "cell_type": "markdown",
   "metadata": {
    "colab_type": "text",
    "id": "UQwb5eCOKdmn"
   },
   "source": [
    "## <center>Handling Duplicates"
   ]
  },
  {
   "cell_type": "markdown",
   "metadata": {
    "colab_type": "text",
    "id": "1tMdWWs1Kdmo"
   },
   "source": [
    "### Detect Duplicate Rows"
   ]
  },
  {
   "cell_type": "code",
   "execution_count": null,
   "metadata": {
    "colab": {},
    "colab_type": "code",
    "id": "j8V83rOeKdmp"
   },
   "outputs": [],
   "source": []
  },
  {
   "cell_type": "markdown",
   "metadata": {
    "colab_type": "text",
    "id": "bRPgjo9fKdmr"
   },
   "source": [
    "### Drop Duplicate Rows"
   ]
  },
  {
   "cell_type": "code",
   "execution_count": null,
   "metadata": {
    "colab": {},
    "colab_type": "code",
    "id": "FWPMWXQQKdms"
   },
   "outputs": [],
   "source": []
  },
  {
   "cell_type": "markdown",
   "metadata": {
    "colab_type": "text",
    "id": "kFpZG62ZKdmv"
   },
   "source": [
    "## <center>🏆 Challenge\n",
    "    \n",
    "Detect and drop duplicates in df7"
   ]
  },
  {
   "cell_type": "code",
   "execution_count": null,
   "metadata": {
    "colab": {},
    "colab_type": "code",
    "id": "DhkddpPEKdmw"
   },
   "outputs": [],
   "source": [
    "#Detect duplicates"
   ]
  },
  {
   "cell_type": "code",
   "execution_count": null,
   "metadata": {
    "colab": {},
    "colab_type": "code",
    "id": "IiCtmeqoKdmy"
   },
   "outputs": [],
   "source": [
    "#Drop duplicates\n"
   ]
  },
  {
   "cell_type": "markdown",
   "metadata": {
    "colab_type": "text",
    "id": "waWxSZcJKdm2"
   },
   "source": [
    "## <center>Handling Missing Values"
   ]
  },
  {
   "cell_type": "markdown",
   "metadata": {
    "colab_type": "text",
    "id": "6PDXv6FgKdm3"
   },
   "source": [
    "### Detect Missing Values"
   ]
  },
  {
   "cell_type": "code",
   "execution_count": null,
   "metadata": {
    "colab": {},
    "colab_type": "code",
    "id": "kzSahpp3Kdm3"
   },
   "outputs": [],
   "source": []
  },
  {
   "cell_type": "markdown",
   "metadata": {
    "colab_type": "text",
    "id": "7Mg3mhXoKdm8"
   },
   "source": [
    "### Drop Missing Values"
   ]
  },
  {
   "cell_type": "code",
   "execution_count": null,
   "metadata": {
    "colab": {},
    "colab_type": "code",
    "id": "VbpeE7B_Kdm8"
   },
   "outputs": [],
   "source": []
  },
  {
   "cell_type": "markdown",
   "metadata": {
    "colab_type": "text",
    "id": "Z90VbmacKdm_"
   },
   "source": [
    "## <center>🏆 Challenge\n",
    "    \n",
    "Detect and drop missing values in df7"
   ]
  },
  {
   "cell_type": "code",
   "execution_count": null,
   "metadata": {
    "colab": {},
    "colab_type": "code",
    "id": "pf0zbKWaKdm_"
   },
   "outputs": [],
   "source": [
    "#Detect missing values\n"
   ]
  },
  {
   "cell_type": "code",
   "execution_count": null,
   "metadata": {
    "colab": {},
    "colab_type": "code",
    "id": "ThXXX8vZKdnE"
   },
   "outputs": [],
   "source": [
    "#Drop missing values\n"
   ]
  },
  {
   "cell_type": "markdown",
   "metadata": {
    "colab_type": "text",
    "id": "2lw-Kat8KdnH"
   },
   "source": [
    "## <center>Numeric Operations"
   ]
  },
  {
   "cell_type": "markdown",
   "metadata": {
    "colab_type": "text",
    "id": "APfPwd9oKdnI"
   },
   "source": [
    "We will work with the data frame df8."
   ]
  },
  {
   "cell_type": "code",
   "execution_count": null,
   "metadata": {
    "colab": {},
    "colab_type": "code",
    "id": "KDKVwxrGKdnJ"
   },
   "outputs": [],
   "source": [
    "#first run this cell to create the dataframe df8\n",
    "df8 = pd.DataFrame(np.random.randn(6,4))\n",
    "df8"
   ]
  },
  {
   "cell_type": "markdown",
   "metadata": {
    "colab_type": "text",
    "id": "jN8IqnIFKdnQ"
   },
   "source": [
    "### Calculate the Mean:"
   ]
  },
  {
   "cell_type": "code",
   "execution_count": null,
   "metadata": {
    "colab": {},
    "colab_type": "code",
    "id": "m9w25pqIKdnQ"
   },
   "outputs": [],
   "source": []
  },
  {
   "cell_type": "markdown",
   "metadata": {
    "colab_type": "text",
    "id": "0qDYbVY5KdnU"
   },
   "source": [
    "## <center>🏆 Challenge\n",
    "    \n",
    "Calculate the mean of df9"
   ]
  },
  {
   "cell_type": "code",
   "execution_count": null,
   "metadata": {
    "colab": {},
    "colab_type": "code",
    "id": "GVYUWElgKdnU"
   },
   "outputs": [],
   "source": [
    "#first run this cell to create df9\n",
    "df9 = pd.DataFrame(np.random.randn(3,4))\n",
    "df9"
   ]
  },
  {
   "cell_type": "code",
   "execution_count": null,
   "metadata": {
    "colab": {},
    "colab_type": "code",
    "id": "ec14cNcXKdnY"
   },
   "outputs": [],
   "source": []
  },
  {
   "cell_type": "markdown",
   "metadata": {
    "colab_type": "text",
    "id": "_rYXEpNYKdne"
   },
   "source": [
    "### Calculate the Cumulative Sum:"
   ]
  },
  {
   "cell_type": "code",
   "execution_count": null,
   "metadata": {
    "colab": {},
    "colab_type": "code",
    "id": "R9U6KznGKdne"
   },
   "outputs": [],
   "source": []
  },
  {
   "cell_type": "markdown",
   "metadata": {
    "colab_type": "text",
    "id": "b_9vijDuKdni"
   },
   "source": [
    "## <center>🏆 Challenge\n",
    "    \n",
    "Calculate the cumulative sum of df9"
   ]
  },
  {
   "cell_type": "code",
   "execution_count": null,
   "metadata": {
    "colab": {},
    "colab_type": "code",
    "id": "iJtQ-KA7Kdnj"
   },
   "outputs": [],
   "source": []
  },
  {
   "cell_type": "markdown",
   "metadata": {
    "colab_type": "text",
    "id": "fw0DQQRJKdnn"
   },
   "source": [
    "### Find the Maximum Value:"
   ]
  },
  {
   "cell_type": "code",
   "execution_count": null,
   "metadata": {
    "colab": {},
    "colab_type": "code",
    "id": "zgSyqD3lKdno"
   },
   "outputs": [],
   "source": []
  },
  {
   "cell_type": "markdown",
   "metadata": {
    "colab_type": "text",
    "id": "oO0jaTlKKdns"
   },
   "source": [
    "## <center>🏆 Challenge\n",
    "\n",
    "Find the maximum value of df9"
   ]
  },
  {
   "cell_type": "code",
   "execution_count": null,
   "metadata": {
    "colab": {},
    "colab_type": "code",
    "id": "_tk9IvRoKdns"
   },
   "outputs": [],
   "source": []
  },
  {
   "cell_type": "markdown",
   "metadata": {
    "colab_type": "text",
    "id": "KiQuHnRiKdnw"
   },
   "source": [
    "### Find the Minimum Value:"
   ]
  },
  {
   "cell_type": "code",
   "execution_count": null,
   "metadata": {
    "colab": {},
    "colab_type": "code",
    "id": "oj64lvwKKdnx"
   },
   "outputs": [],
   "source": []
  },
  {
   "cell_type": "markdown",
   "metadata": {
    "colab_type": "text",
    "id": "f5rFdhtuKdn2"
   },
   "source": [
    "## <center>🏆 Challenge\n",
    "\n",
    "Find the minimum value of df9"
   ]
  },
  {
   "cell_type": "code",
   "execution_count": null,
   "metadata": {
    "colab": {},
    "colab_type": "code",
    "id": "IP_VMNRMKdn2"
   },
   "outputs": [],
   "source": []
  },
  {
   "cell_type": "markdown",
   "metadata": {
    "colab_type": "text",
    "id": "AmoK6uvfKdoD"
   },
   "source": [
    "## <center>String Manipulation"
   ]
  },
  {
   "cell_type": "markdown",
   "metadata": {
    "colab_type": "text",
    "id": "PcpGu3l9KdoE"
   },
   "source": [
    "We will work with the series s7 for this section."
   ]
  },
  {
   "cell_type": "code",
   "execution_count": null,
   "metadata": {
    "colab": {},
    "colab_type": "code",
    "id": "87p9smW1KdoH"
   },
   "outputs": [],
   "source": [
    "#first run this cell to create series s7\n",
    "s7 = np.array(['animal','bird',' Pandas Library  '] )\n",
    "s7= pd.Series(s7)\n",
    "s7"
   ]
  },
  {
   "cell_type": "markdown",
   "metadata": {
    "colab_type": "text",
    "id": "sXWxAHHSKdoK"
   },
   "source": [
    "### Convert to Lower Case"
   ]
  },
  {
   "cell_type": "code",
   "execution_count": null,
   "metadata": {
    "colab": {},
    "colab_type": "code",
    "id": "RfLs4tqYKdoL"
   },
   "outputs": [],
   "source": []
  },
  {
   "cell_type": "markdown",
   "metadata": {
    "colab_type": "text",
    "id": "4UiBFht5KdoO"
   },
   "source": [
    "## <center>🏆 Challenge\n",
    "\n",
    "Convert the strings in s8 to lower case."
   ]
  },
  {
   "cell_type": "code",
   "execution_count": null,
   "metadata": {
    "colab": {},
    "colab_type": "code",
    "id": "cdW2k0hsYO8v"
   },
   "outputs": [],
   "source": []
  },
  {
   "cell_type": "code",
   "execution_count": null,
   "metadata": {
    "colab": {},
    "colab_type": "code",
    "id": "7XPPG1D1KdoP"
   },
   "outputs": [],
   "source": []
  },
  {
   "cell_type": "markdown",
   "metadata": {
    "colab_type": "text",
    "id": "lUWneFcJKdoZ"
   },
   "source": [
    "---------------"
   ]
  },
  {
   "cell_type": "markdown",
   "metadata": {
    "colab_type": "text",
    "id": "Are8Zvx6Kdob"
   },
   "source": [
    "### Convert to Upper Case"
   ]
  },
  {
   "cell_type": "code",
   "execution_count": null,
   "metadata": {
    "colab": {},
    "colab_type": "code",
    "id": "MX5fwebiKdob"
   },
   "outputs": [],
   "source": []
  },
  {
   "cell_type": "markdown",
   "metadata": {
    "colab_type": "text",
    "id": "wgYhsRWPKdoe"
   },
   "source": [
    "## <center>🏆 Challenge\n",
    "\n",
    "Convert the strings in s8 to upper case."
   ]
  },
  {
   "cell_type": "code",
   "execution_count": null,
   "metadata": {
    "colab": {},
    "colab_type": "code",
    "id": "37--BEZoKdof"
   },
   "outputs": [],
   "source": []
  },
  {
   "cell_type": "markdown",
   "metadata": {
    "colab_type": "text",
    "id": "puSkl35fKdoh"
   },
   "source": [
    "### Swap Capitalization"
   ]
  },
  {
   "cell_type": "code",
   "execution_count": null,
   "metadata": {
    "colab": {},
    "colab_type": "code",
    "id": "kyd4YBoRKdoi"
   },
   "outputs": [],
   "source": []
  },
  {
   "cell_type": "markdown",
   "metadata": {
    "colab_type": "text",
    "id": "DDhJZURPKdok"
   },
   "source": [
    "## <center>🏆 Challenge\n",
    "\n",
    "Swap the capitalization of the strings in s8."
   ]
  },
  {
   "cell_type": "code",
   "execution_count": null,
   "metadata": {
    "colab": {},
    "colab_type": "code",
    "id": "n9_siA8rKdol"
   },
   "outputs": [],
   "source": []
  },
  {
   "cell_type": "markdown",
   "metadata": {
    "colab_type": "text",
    "id": "2UrRMXFvKdop"
   },
   "source": [
    "### Find Length of String"
   ]
  },
  {
   "cell_type": "code",
   "execution_count": null,
   "metadata": {
    "colab": {},
    "colab_type": "code",
    "id": "WszLyCdvKdop"
   },
   "outputs": [],
   "source": []
  },
  {
   "cell_type": "markdown",
   "metadata": {
    "colab_type": "text",
    "id": "u1TkmYy9Kdot"
   },
   "source": [
    "## <center>🏆 Challenge\n",
    "\n",
    "Find the length of the strings in s8."
   ]
  },
  {
   "cell_type": "code",
   "execution_count": null,
   "metadata": {
    "colab": {},
    "colab_type": "code",
    "id": "ko-Xm2FNKdot"
   },
   "outputs": [],
   "source": []
  },
  {
   "cell_type": "markdown",
   "metadata": {
    "colab_type": "text",
    "id": "gerhV7EdKdow"
   },
   "source": [
    "-------------"
   ]
  },
  {
   "cell_type": "markdown",
   "metadata": {
    "colab_type": "text",
    "id": "VwSh2vTUKdow"
   },
   "source": [
    "### Split String"
   ]
  },
  {
   "cell_type": "code",
   "execution_count": null,
   "metadata": {
    "colab": {},
    "colab_type": "code",
    "id": "1jm-W4v5Kdox"
   },
   "outputs": [],
   "source": []
  },
  {
   "cell_type": "markdown",
   "metadata": {
    "colab_type": "text",
    "id": "Jte4lCpMKdoy"
   },
   "source": [
    "## <center>🏆 Challenge\n",
    "\n",
    "Find the length of the strings in s8."
   ]
  },
  {
   "cell_type": "code",
   "execution_count": null,
   "metadata": {
    "colab": {},
    "colab_type": "code",
    "id": "hf53ABmTKdoy"
   },
   "outputs": [],
   "source": [
    "#first run this cell to create the series s8\n",
    "s8 = np.array(['cat','dog',' Python Programming  '] )\n",
    "s8= pd.Series(s8)\n",
    "s8"
   ]
  },
  {
   "cell_type": "code",
   "execution_count": null,
   "metadata": {
    "colab": {},
    "colab_type": "code",
    "id": "8XohGUPUKdo0"
   },
   "outputs": [],
   "source": []
  },
  {
   "cell_type": "markdown",
   "metadata": {
    "colab_type": "text",
    "id": "uWIEeHQRKdo1"
   },
   "source": [
    "### Detect Unique Values"
   ]
  },
  {
   "cell_type": "code",
   "execution_count": null,
   "metadata": {
    "colab": {},
    "colab_type": "code",
    "id": "Q84Ypw9SKdo1"
   },
   "outputs": [],
   "source": []
  },
  {
   "cell_type": "markdown",
   "metadata": {
    "colab_type": "text",
    "id": "NjmgQuqYKdo3"
   },
   "source": [
    "## <center>🏆 Challenge\n",
    "\n",
    "Detect unique values in s8."
   ]
  },
  {
   "cell_type": "code",
   "execution_count": null,
   "metadata": {
    "colab": {},
    "colab_type": "code",
    "id": "_YMFeHshKdo4"
   },
   "outputs": [],
   "source": []
  },
  {
   "cell_type": "markdown",
   "metadata": {
    "colab_type": "text",
    "id": "jcj97YkjKdo5"
   },
   "source": [
    "### Repeat String"
   ]
  },
  {
   "cell_type": "markdown",
   "metadata": {
    "colab_type": "text",
    "id": "Ez78XAVnKdo5"
   },
   "source": [
    "We will work with the series s7 for this section."
   ]
  },
  {
   "cell_type": "code",
   "execution_count": null,
   "metadata": {
    "colab": {},
    "colab_type": "code",
    "id": "3xyw_CgyKdo6"
   },
   "outputs": [],
   "source": [
    "#first run this cell to create series s7\n",
    "s7 = np.array(['animal','bird',' Pandas Library  '] )\n",
    "s7= pd.Series(s7)\n",
    "s7"
   ]
  },
  {
   "cell_type": "code",
   "execution_count": null,
   "metadata": {
    "colab": {},
    "colab_type": "code",
    "id": "1TSLCYyJKdo-"
   },
   "outputs": [],
   "source": []
  },
  {
   "cell_type": "markdown",
   "metadata": {
    "colab_type": "text",
    "id": "pZZLkc1GKdpA"
   },
   "source": [
    "## <center>🏆 Challenge\n",
    "\n",
    "Repeat the values in s8 in the order [1,2,3]"
   ]
  },
  {
   "cell_type": "code",
   "execution_count": null,
   "metadata": {
    "colab": {},
    "colab_type": "code",
    "id": "esXF9hAdKdpB"
   },
   "outputs": [],
   "source": [
    "## <center>🏆 Challenge\n",
    "\n",
    "Repeat the values in s8 in the order [1,2,3]"
   ]
  },
  {
   "cell_type": "code",
   "execution_count": null,
   "metadata": {
    "colab": {},
    "colab_type": "code",
    "id": "f_YvQJsEKdpO"
   },
   "outputs": [],
   "source": []
  }
 ],
 "metadata": {
  "colab": {
   "name": "Workbook - Pandas Python Library for Beginners in Data Science.ipynb",
   "provenance": []
  },
  "kernelspec": {
   "display_name": "Python 3",
   "language": "python",
   "name": "python3"
  },
  "language_info": {
   "codemirror_mode": {
    "name": "ipython",
    "version": 3
   },
   "file_extension": ".py",
   "mimetype": "text/x-python",
   "name": "python",
   "nbconvert_exporter": "python",
   "pygments_lexer": "ipython3",
   "version": "3.6.9"
  }
 },
 "nbformat": 4,
 "nbformat_minor": 4
}
